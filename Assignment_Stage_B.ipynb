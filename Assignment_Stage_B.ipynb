{
 "cells": [
  {
   "cell_type": "code",
   "execution_count": 1,
   "metadata": {},
   "outputs": [],
   "source": [
    "import pandas as pd\n",
    "import numpy as np\n",
    "from sklearn.linear_model import LinearRegression,Ridge,Lasso\n",
    "from sklearn.model_selection import train_test_split\n",
    "from sklearn.preprocessing import MinMaxScaler\n",
    "from sklearn.metrics import mean_squared_error,mean_absolute_error,r2_score"
   ]
  },
  {
   "cell_type": "code",
   "execution_count": 2,
   "metadata": {
    "scrolled": true
   },
   "outputs": [],
   "source": [
    "df = pd.read_csv('energydata_complete.csv')"
   ]
  },
  {
   "cell_type": "markdown",
   "metadata": {},
   "source": [
    "# 12"
   ]
  },
  {
   "cell_type": "code",
   "execution_count": 3,
   "metadata": {},
   "outputs": [
    {
     "data": {
      "text/plain": [
       "LinearRegression()"
      ]
     },
     "execution_count": 3,
     "metadata": {},
     "output_type": "execute_result"
    }
   ],
   "source": [
    "x = df[['T2']]\n",
    "y = df['T6']\n",
    "lm = LinearRegression()\n",
    "lm.fit(x,y)"
   ]
  },
  {
   "cell_type": "code",
   "execution_count": 4,
   "metadata": {},
   "outputs": [
    {
     "name": "stdout",
     "output_type": "stream",
     "text": [
      "The R^2 value is 0.64\n"
     ]
    }
   ],
   "source": [
    "r2 = lm.score(x,y)\n",
    "print(f'The R^2 value is {r2:.2f}')"
   ]
  },
  {
   "cell_type": "markdown",
   "metadata": {},
   "source": [
    "# 13"
   ]
  },
  {
   "cell_type": "code",
   "execution_count": 5,
   "metadata": {},
   "outputs": [],
   "source": [
    "df.drop(columns=['date','lights'], axis=1, inplace=True)"
   ]
  },
  {
   "cell_type": "code",
   "execution_count": 6,
   "metadata": {},
   "outputs": [],
   "source": [
    "scale = MinMaxScaler()\n",
    "df_norm = pd.DataFrame(scale.fit_transform(df), columns=df.columns)"
   ]
  },
  {
   "cell_type": "code",
   "execution_count": 7,
   "metadata": {},
   "outputs": [],
   "source": [
    "X = df_norm.drop(columns=['Appliances'], axis=1)\n",
    "Y = df_norm['Appliances']"
   ]
  },
  {
   "cell_type": "code",
   "execution_count": 8,
   "metadata": {},
   "outputs": [],
   "source": [
    "X_tr, X_te, Y_tr, Y_te = train_test_split(X, Y, test_size=0.3, random_state=42)"
   ]
  },
  {
   "cell_type": "code",
   "execution_count": 9,
   "metadata": {},
   "outputs": [
    {
     "data": {
      "text/plain": [
       "LinearRegression()"
      ]
     },
     "execution_count": 9,
     "metadata": {},
     "output_type": "execute_result"
    }
   ],
   "source": [
    "multi_reg = LinearRegression()\n",
    "multi_reg.fit(X_tr,Y_tr)"
   ]
  },
  {
   "cell_type": "code",
   "execution_count": 10,
   "metadata": {},
   "outputs": [],
   "source": [
    "#Predicted values\n",
    "Y_pred = multi_reg.predict(X_te)"
   ]
  },
  {
   "cell_type": "code",
   "execution_count": 11,
   "metadata": {},
   "outputs": [
    {
     "name": "stdout",
     "output_type": "stream",
     "text": [
      "The mean absolute error on test set is 0.05\n"
     ]
    }
   ],
   "source": [
    "mae = mean_absolute_error(Y_te,Y_pred)\n",
    "print(f'The mean absolute error on test set is {mae:.2f}')"
   ]
  },
  {
   "cell_type": "markdown",
   "metadata": {},
   "source": [
    "# 14"
   ]
  },
  {
   "cell_type": "code",
   "execution_count": 12,
   "metadata": {},
   "outputs": [
    {
     "name": "stdout",
     "output_type": "stream",
     "text": [
      "The residual sum of squares is 45.35\n"
     ]
    }
   ],
   "source": [
    "rss = np.sum(np.square(Y_te - Y_pred))\n",
    "print(f'The residual sum of squares is {rss:.2f}')"
   ]
  },
  {
   "cell_type": "markdown",
   "metadata": {},
   "source": [
    "# 15"
   ]
  },
  {
   "cell_type": "code",
   "execution_count": 13,
   "metadata": {},
   "outputs": [
    {
     "name": "stdout",
     "output_type": "stream",
     "text": [
      "The root mean squared error is 0.088\n"
     ]
    }
   ],
   "source": [
    "mse = mean_squared_error(Y_te,Y_pred)\n",
    "rmse = np.sqrt(mse)\n",
    "print(f'The root mean squared error is {rmse:.3f}')"
   ]
  },
  {
   "cell_type": "markdown",
   "metadata": {},
   "source": [
    "# 16"
   ]
  },
  {
   "cell_type": "code",
   "execution_count": 14,
   "metadata": {},
   "outputs": [
    {
     "name": "stdout",
     "output_type": "stream",
     "text": [
      "The coefficient of determination is 0.15\n"
     ]
    }
   ],
   "source": [
    "r2 = r2_score(Y_te,Y_pred)\n",
    "print(f'The coefficient of determination is {r2:.2f}')"
   ]
  },
  {
   "cell_type": "markdown",
   "metadata": {},
   "source": [
    "# 17"
   ]
  },
  {
   "cell_type": "code",
   "execution_count": 15,
   "metadata": {},
   "outputs": [
    {
     "data": {
      "text/plain": [
       "rv2           -2.272929e+10\n",
       "RH_2          -4.567049e-01\n",
       "T_out         -3.218349e-01\n",
       "T2            -2.361811e-01\n",
       "T9            -1.899199e-01\n",
       "RH_8          -1.575971e-01\n",
       "RH_out        -7.764895e-02\n",
       "RH_7          -4.460652e-02\n",
       "RH_9          -3.980865e-02\n",
       "T5            -1.568022e-02\n",
       "T1            -3.281051e-03\n",
       "Press_mm_hg    6.843231e-03\n",
       "T7             1.031790e-02\n",
       "Visibility     1.230574e-02\n",
       "RH_5           1.600980e-02\n",
       "RH_4           2.639574e-02\n",
       "T4             2.900284e-02\n",
       "Windspeed      2.919021e-02\n",
       "RH_6           3.805791e-02\n",
       "RH_3           9.602772e-02\n",
       "T8             1.019904e-01\n",
       "Tdewpoint      1.177408e-01\n",
       "T6             2.364231e-01\n",
       "T3             2.906232e-01\n",
       "RH_1           5.535569e-01\n",
       "rv1            2.272929e+10\n",
       "dtype: float64"
      ]
     },
     "execution_count": 15,
     "metadata": {},
     "output_type": "execute_result"
    }
   ],
   "source": [
    "pd.Series(multi_reg.coef_,X.columns).sort_values()"
   ]
  },
  {
   "cell_type": "markdown",
   "metadata": {},
   "source": [
    "# 18"
   ]
  },
  {
   "cell_type": "code",
   "execution_count": 16,
   "metadata": {},
   "outputs": [
    {
     "data": {
      "text/plain": [
       "Ridge(alpha=0.4)"
      ]
     },
     "execution_count": 16,
     "metadata": {},
     "output_type": "execute_result"
    }
   ],
   "source": [
    "ridge_reg = Ridge(alpha=0.4)\n",
    "ridge_reg.fit(X_tr,Y_tr)"
   ]
  },
  {
   "cell_type": "code",
   "execution_count": 17,
   "metadata": {},
   "outputs": [],
   "source": [
    "Y_pred_ridge = ridge_reg.predict(X_te)"
   ]
  },
  {
   "cell_type": "code",
   "execution_count": 18,
   "metadata": {},
   "outputs": [
    {
     "name": "stdout",
     "output_type": "stream",
     "text": [
      "RMSE for ridge regression model is 0.09\n"
     ]
    }
   ],
   "source": [
    "ridge_rmse = np.sqrt(mean_squared_error(Y_te,Y_pred_ridge))\n",
    "print(f'RMSE for ridge regression model is {ridge_rmse:.2f}')"
   ]
  },
  {
   "cell_type": "markdown",
   "metadata": {},
   "source": [
    "# 19"
   ]
  },
  {
   "cell_type": "code",
   "execution_count": 19,
   "metadata": {},
   "outputs": [
    {
     "data": {
      "text/plain": [
       "Lasso(alpha=0.001)"
      ]
     },
     "execution_count": 19,
     "metadata": {},
     "output_type": "execute_result"
    }
   ],
   "source": [
    "lasso_reg = Lasso(alpha=0.001)\n",
    "lasso_reg.fit(X_tr,Y_tr)"
   ]
  },
  {
   "cell_type": "code",
   "execution_count": 20,
   "metadata": {},
   "outputs": [
    {
     "data": {
      "text/plain": [
       "RH_out        -0.049557\n",
       "RH_8          -0.000110\n",
       "T1             0.000000\n",
       "Tdewpoint      0.000000\n",
       "Visibility     0.000000\n",
       "Press_mm_hg   -0.000000\n",
       "T_out          0.000000\n",
       "RH_9          -0.000000\n",
       "T9            -0.000000\n",
       "T8             0.000000\n",
       "RH_7          -0.000000\n",
       "rv1           -0.000000\n",
       "T7            -0.000000\n",
       "T6             0.000000\n",
       "RH_5           0.000000\n",
       "T5            -0.000000\n",
       "RH_4           0.000000\n",
       "T4            -0.000000\n",
       "RH_3           0.000000\n",
       "T3             0.000000\n",
       "RH_2          -0.000000\n",
       "T2             0.000000\n",
       "RH_6          -0.000000\n",
       "rv2           -0.000000\n",
       "Windspeed      0.002912\n",
       "RH_1           0.017880\n",
       "dtype: float64"
      ]
     },
     "execution_count": 20,
     "metadata": {},
     "output_type": "execute_result"
    }
   ],
   "source": [
    "pd.Series(lasso_reg.coef_,X.columns).sort_values()"
   ]
  },
  {
   "cell_type": "markdown",
   "metadata": {},
   "source": [
    "# 20"
   ]
  },
  {
   "cell_type": "code",
   "execution_count": 21,
   "metadata": {},
   "outputs": [
    {
     "name": "stdout",
     "output_type": "stream",
     "text": [
      "RMSE for lasso regression model is 0.094\n"
     ]
    }
   ],
   "source": [
    "lasso_mse = np.sqrt(mean_squared_error(lasso_reg.predict(X_te),Y_te))\n",
    "print(f'RMSE for lasso regression model is {lasso_mse:.3f}')"
   ]
  }
 ],
 "metadata": {
  "kernelspec": {
   "display_name": "StatsModel",
   "language": "python",
   "name": "statsmodel"
  },
  "language_info": {
   "codemirror_mode": {
    "name": "ipython",
    "version": 3
   },
   "file_extension": ".py",
   "mimetype": "text/x-python",
   "name": "python",
   "nbconvert_exporter": "python",
   "pygments_lexer": "ipython3",
   "version": "3.8.5"
  }
 },
 "nbformat": 4,
 "nbformat_minor": 2
}
